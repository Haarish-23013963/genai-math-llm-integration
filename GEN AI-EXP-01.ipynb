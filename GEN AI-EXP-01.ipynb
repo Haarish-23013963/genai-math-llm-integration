{
 "cells": [
  {
   "cell_type": "code",
   "execution_count": 1,
   "id": "b34bd5ad",
   "metadata": {
    "height": 115
   },
   "outputs": [],
   "source": [
    "import os\n",
    "import openai\n",
    "\n",
    "from dotenv import load_dotenv, find_dotenv\n",
    "_ = load_dotenv(find_dotenv()) # read local .env file\n",
    "openai.api_key = os.environ['OPENAI_API_KEY']"
   ]
  },
  {
   "cell_type": "code",
   "execution_count": 2,
   "id": "a84b9764",
   "metadata": {
    "height": 166
   },
   "outputs": [],
   "source": [
    "import json\n",
    "\n",
    "def calculate_rectangle_area(length, width):\n",
    "    area = length * width\n",
    "    return json.dumps({\n",
    "        \"length\": length,\n",
    "        \"width\": width,\n",
    "        \"area\": area\n",
    "    })"
   ]
  },
  {
   "cell_type": "code",
   "execution_count": 3,
   "id": "bdee8c28",
   "metadata": {
    "height": 370
   },
   "outputs": [],
   "source": [
    "functions = [\n",
    "    {\n",
    "        \"name\": \"calculate_rectangle_area\",\n",
    "        \"description\": \"Calculate the area of a rectangle given length and width\",\n",
    "        \"parameters\": {\n",
    "            \"type\": \"object\",\n",
    "            \"properties\": {\n",
    "                \"length\": {\n",
    "                    \"type\": \"number\",\n",
    "                    \"description\": \"The length of the rectangle\"\n",
    "                },\n",
    "                \"width\": {\n",
    "                    \"type\": \"number\",\n",
    "                    \"description\": \"The width of the rectangle\"\n",
    "                },\n",
    "            },\n",
    "            \"required\": [\"length\", \"width\"],\n",
    "        },\n",
    "    }\n",
    "]\n"
   ]
  },
  {
   "cell_type": "code",
   "execution_count": 10,
   "id": "4cbc2894",
   "metadata": {
    "height": 115
   },
   "outputs": [],
   "source": [
    "messages = [\n",
    "    {\n",
    "        \"role\": \"user\",\n",
    "        \"content\": \"What is the area of a rectangle with length 10 and width 5?\",\n",
    "    }\n",
    "]"
   ]
  },
  {
   "cell_type": "code",
   "execution_count": 11,
   "id": "540c7cdd",
   "metadata": {
    "height": 132
   },
   "outputs": [],
   "source": [
    "# Call the ChatCompletion endpoint\n",
    "response = openai.ChatCompletion.create(\n",
    "    # OpenAI Updates: As of June 2024, we are now using the GPT-3.5-Turbo model\n",
    "    model=\"gpt-3.5-turbo\",\n",
    "    messages=messages,\n",
    "    functions=functions\n",
    ")"
   ]
  },
  {
   "cell_type": "code",
   "execution_count": 12,
   "id": "c4cf3a51",
   "metadata": {
    "height": 30
   },
   "outputs": [
    {
     "name": "stdout",
     "output_type": "stream",
     "text": [
      "{\n",
      "  \"id\": \"chatcmpl-CEqNR4XKqZZLMF3qFkYGAb4r0Bdtb\",\n",
      "  \"object\": \"chat.completion\",\n",
      "  \"created\": 1757653965,\n",
      "  \"model\": \"gpt-3.5-turbo-0125\",\n",
      "  \"choices\": [\n",
      "    {\n",
      "      \"index\": 0,\n",
      "      \"message\": {\n",
      "        \"role\": \"assistant\",\n",
      "        \"content\": null,\n",
      "        \"function_call\": {\n",
      "          \"name\": \"calculate_rectangle_area\",\n",
      "          \"arguments\": \"{\\\"length\\\":10,\\\"width\\\":5}\"\n",
      "        },\n",
      "        \"refusal\": null,\n",
      "        \"annotations\": []\n",
      "      },\n",
      "      \"logprobs\": null,\n",
      "      \"finish_reason\": \"function_call\"\n",
      "    }\n",
      "  ],\n",
      "  \"usage\": {\n",
      "    \"prompt_tokens\": 85,\n",
      "    \"completion_tokens\": 19,\n",
      "    \"total_tokens\": 104,\n",
      "    \"prompt_tokens_details\": {\n",
      "      \"cached_tokens\": 0,\n",
      "      \"audio_tokens\": 0\n",
      "    },\n",
      "    \"completion_tokens_details\": {\n",
      "      \"reasoning_tokens\": 0,\n",
      "      \"audio_tokens\": 0,\n",
      "      \"accepted_prediction_tokens\": 0,\n",
      "      \"rejected_prediction_tokens\": 0\n",
      "    }\n",
      "  },\n",
      "  \"service_tier\": \"default\",\n",
      "  \"system_fingerprint\": null\n",
      "}\n"
     ]
    }
   ],
   "source": [
    "print(response)"
   ]
  },
  {
   "cell_type": "code",
   "execution_count": 13,
   "id": "3bb64592",
   "metadata": {
    "height": 30
   },
   "outputs": [],
   "source": [
    "response_message = response[\"choices\"][0][\"message\"]"
   ]
  },
  {
   "cell_type": "code",
   "execution_count": 14,
   "id": "264b30c9",
   "metadata": {
    "height": 30
   },
   "outputs": [
    {
     "data": {
      "text/plain": [
       "<OpenAIObject at 0x7f5685bf7680> JSON: {\n",
       "  \"role\": \"assistant\",\n",
       "  \"content\": null,\n",
       "  \"function_call\": {\n",
       "    \"name\": \"calculate_rectangle_area\",\n",
       "    \"arguments\": \"{\\\"length\\\":10,\\\"width\\\":5}\"\n",
       "  },\n",
       "  \"refusal\": null,\n",
       "  \"annotations\": []\n",
       "}"
      ]
     },
     "execution_count": 14,
     "metadata": {},
     "output_type": "execute_result"
    }
   ],
   "source": [
    "response_message"
   ]
  },
  {
   "cell_type": "code",
   "execution_count": 15,
   "id": "4a45a068",
   "metadata": {
    "height": 30
   },
   "outputs": [],
   "source": [
    "response_message[\"content\"]"
   ]
  },
  {
   "cell_type": "code",
   "execution_count": 16,
   "id": "a5524381",
   "metadata": {
    "height": 30
   },
   "outputs": [
    {
     "data": {
      "text/plain": [
       "<OpenAIObject at 0x7f56642f1ea0> JSON: {\n",
       "  \"name\": \"calculate_rectangle_area\",\n",
       "  \"arguments\": \"{\\\"length\\\":10,\\\"width\\\":5}\"\n",
       "}"
      ]
     },
     "execution_count": 16,
     "metadata": {},
     "output_type": "execute_result"
    }
   ],
   "source": [
    "response_message[\"function_call\"]"
   ]
  },
  {
   "cell_type": "code",
   "execution_count": 17,
   "id": "3d580df8",
   "metadata": {
    "height": 30
   },
   "outputs": [
    {
     "data": {
      "text/plain": [
       "{'length': 10, 'width': 5}"
      ]
     },
     "execution_count": 17,
     "metadata": {},
     "output_type": "execute_result"
    }
   ],
   "source": [
    "json.loads(response_message[\"function_call\"][\"arguments\"])"
   ]
  },
  {
   "cell_type": "code",
   "execution_count": 18,
   "id": "fac2635d",
   "metadata": {
    "height": 30
   },
   "outputs": [],
   "source": [
    "args = json.loads(response_message[\"function_call\"][\"arguments\"])"
   ]
  },
  {
   "cell_type": "code",
   "execution_count": 19,
   "id": "47f134fd",
   "metadata": {
    "height": 30
   },
   "outputs": [
    {
     "data": {
      "text/plain": [
       "'{\"length\": 10, \"width\": 5, \"area\": 50}'"
      ]
     },
     "execution_count": 19,
     "metadata": {},
     "output_type": "execute_result"
    }
   ],
   "source": [
    "calculate_rectangle_area(args[\"length\"], args[\"width\"])"
   ]
  },
  {
   "cell_type": "code",
   "execution_count": 24,
   "id": "8ea89f92",
   "metadata": {
    "height": 30
   },
   "outputs": [
    {
     "name": "stdout",
     "output_type": "stream",
     "text": [
      "{\n",
      "  \"id\": \"chatcmpl-CEqUd2dKt76fCqpyYk8TwR49NXs1K\",\n",
      "  \"object\": \"chat.completion\",\n",
      "  \"created\": 1757654411,\n",
      "  \"model\": \"gpt-3.5-turbo-0125\",\n",
      "  \"choices\": [\n",
      "    {\n",
      "      \"index\": 0,\n",
      "      \"message\": {\n",
      "        \"role\": \"assistant\",\n",
      "        \"content\": \"To calculate the area of a rectangle with a length of 10 and a width of 5, we can use the formula:\\n\\nArea = Length x Width\\n\\nPlugging in the values:\\n\\nArea = 10 x 5\\nArea = 50\\n\\nTherefore, the area of a rectangle with length 10 and width 5 is 50 square units.\",\n",
      "        \"refusal\": null,\n",
      "        \"annotations\": []\n",
      "      },\n",
      "      \"logprobs\": null,\n",
      "      \"finish_reason\": \"stop\"\n",
      "    }\n",
      "  ],\n",
      "  \"usage\": {\n",
      "    \"prompt_tokens\": 86,\n",
      "    \"completion_tokens\": 72,\n",
      "    \"total_tokens\": 158,\n",
      "    \"prompt_tokens_details\": {\n",
      "      \"cached_tokens\": 0,\n",
      "      \"audio_tokens\": 0\n",
      "    },\n",
      "    \"completion_tokens_details\": {\n",
      "      \"reasoning_tokens\": 0,\n",
      "      \"audio_tokens\": 0,\n",
      "      \"accepted_prediction_tokens\": 0,\n",
      "      \"rejected_prediction_tokens\": 0\n",
      "    }\n",
      "  },\n",
      "  \"service_tier\": \"default\",\n",
      "  \"system_fingerprint\": null\n",
      "}\n"
     ]
    }
   ],
   "source": [
    "messages = [\n",
    "    {\n",
    "        \"role\": \"user\",\n",
    "        \"content\": \"What is the area of a rectangle with length 10 and width 5?\",\n",
    "    }\n",
    "]\n",
    "response = openai.ChatCompletion.create(\n",
    "    # OpenAI Updates: As of June 2024, we are now using the GPT-3.5-Turbo model\n",
    "    model=\"gpt-3.5-turbo\",\n",
    "    messages=messages,\n",
    "    functions=functions,\n",
    "    function_call=\"none\",\n",
    ")\n",
    "print(response)"
   ]
  }
 ],
 "metadata": {
  "kernelspec": {
   "display_name": "Python 3 (ipykernel)",
   "language": "python",
   "name": "python3"
  },
  "language_info": {
   "codemirror_mode": {
    "name": "ipython",
    "version": 3
   },
   "file_extension": ".py",
   "mimetype": "text/x-python",
   "name": "python",
   "nbconvert_exporter": "python",
   "pygments_lexer": "ipython3",
   "version": "3.9.19"
  }
 },
 "nbformat": 4,
 "nbformat_minor": 5
}
